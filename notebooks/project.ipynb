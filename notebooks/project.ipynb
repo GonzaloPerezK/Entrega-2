{
 "cells": [
  {
   "metadata": {},
   "cell_type": "markdown",
   "source": [
    "# Cargar credenciales de la API\n",
    "### Desde un archivo .env ubicado en la raíz del proyecto usando load_dotenv(find_dotenv()). De esta forma, como decía la consigna evitamos el poder acceder a CLIENT_ID y CLIENT_SECRET mediante variables de entorno."
   ],
   "id": "b0eb257da1b6c6bc"
  },
  {
   "cell_type": "code",
   "id": "initial_id",
   "metadata": {
    "collapsed": true,
    "ExecuteTime": {
     "end_time": "2025-09-16T23:38:03.146888Z",
     "start_time": "2025-09-16T23:38:03.139736Z"
    }
   },
   "source": [
    "import os\n",
    "from dotenv import load_dotenv, find_dotenv\n",
    "load_dotenv(find_dotenv())\n",
    "\n",
    "CLIENT_ID = os.getenv(\"CLIENT_ID\")\n",
    "CLIENT_SECRET = os.getenv(\"CLIENT_SECRET\")"
   ],
   "outputs": [],
   "execution_count": 81
  },
  {
   "metadata": {},
   "cell_type": "markdown",
   "source": "## Importación de librerías necesarias\n",
   "id": "ffad6343b722ead8"
  },
  {
   "metadata": {
    "ExecuteTime": {
     "end_time": "2025-09-16T23:38:20.656851Z",
     "start_time": "2025-09-16T23:38:20.650231Z"
    }
   },
   "cell_type": "code",
   "source": [
    "import os\n",
    "from pathlib import Path\n",
    "from typing import List, Dict, Union\n",
    "\n",
    "from dotenv import load_dotenv, find_dotenv\n",
    "\n",
    "load_dotenv(find_dotenv())\n"
   ],
   "id": "5723d8d142f940bf",
   "outputs": [
    {
     "data": {
      "text/plain": [
       "True"
      ]
     },
     "execution_count": 83,
     "metadata": {},
     "output_type": "execute_result"
    }
   ],
   "execution_count": 83
  },
  {
   "metadata": {},
   "cell_type": "markdown",
   "source": [
    "# Se genéra la conexión a la API de Spotify\n",
    "### Para conectarme con spotify utilice el flujo de credenciales de aplicación con SpotifyClientCredentials, con esto podemos autenticarnos de forma segura y acceder sin necesidad de login del usuario\n"
   ],
   "id": "2965e880249b3ea9"
  },
  {
   "metadata": {
    "ExecuteTime": {
     "end_time": "2025-09-16T23:06:40.428955Z",
     "start_time": "2025-09-16T23:06:40.420250Z"
    }
   },
   "cell_type": "code",
   "source": [
    "import spotipy\n",
    "from spotipy.oauth2 import SpotifyClientCredentials\n",
    "\n",
    "auth_manager = SpotifyClientCredentials(\n",
    "    client_id=CLIENT_ID,\n",
    "    client_secret=CLIENT_SECRET\n",
    ")\n",
    "sp = spotipy.Spotify(auth_manager=auth_manager)\n"
   ],
   "id": "ce790116c71aa73c",
   "outputs": [],
   "execution_count": 75
  },
  {
   "metadata": {},
   "cell_type": "markdown",
   "source": [
    "# Funciones para obtener el ID del artista\n",
    "\n",
    "### Creé dos funciones para obtener el ID del artista, una de ellas que me permitiera extraer el artist_id desde una URL como en el ejemplo o directamente usarlo si ya lo tengo, y la otra busca un artista por nombre y devuelve el primer ID que se encuentre facilitando así la conexión con los datos de Spotify\n",
    "\n"
   ],
   "id": "b5d8a1427c85b090"
  },
  {
   "metadata": {
    "ExecuteTime": {
     "end_time": "2025-09-16T23:06:42.745537Z",
     "start_time": "2025-09-16T23:06:42.739538Z"
    }
   },
   "cell_type": "code",
   "source": [
    "def normalize_artist_id(text: str) -> str:\n",
    "\n",
    "    s = text.strip()\n",
    "    if \"/\" in s:\n",
    "        s = s.split(\"?\")[0].rstrip(\"/\")\n",
    "        return s.split(\"/\")[-1]\n",
    "    return s\n",
    "\n",
    "def find_artist_id_by_name(sp_client: spotipy.Spotify, name: str) -> Union[str, None]:\n",
    "\n",
    "    res = sp_client.search(q=name, type=\"artist\", limit=1)\n",
    "    items = res.get(\"artists\", {}).get(\"items\", [])\n",
    "    return items[0][\"id\"] if items else None\n"
   ],
   "id": "fb4b7d7e9d55ca89",
   "outputs": [],
   "execution_count": 76
  },
  {
   "metadata": {},
   "cell_type": "markdown",
   "source": [
    "# Con esta función principal nos devuelve el top N\n",
    "### Creé dos funciones auxiliares para obtener el ID del artista. Una permite extraer el artist_id desde una URL o directamente usarlo si ya lo tengo, y la otra busca un artista por nombre y devuelve el primer ID encontrado, lo que facilita trabajar con entradas más flexibles a la hora de consultar la API de Spotify."
   ],
   "id": "51c0a84da12c7a19"
  },
  {
   "metadata": {
    "ExecuteTime": {
     "end_time": "2025-09-16T23:06:45.059574Z",
     "start_time": "2025-09-16T23:06:45.053716Z"
    }
   },
   "cell_type": "code",
   "source": [
    "\n",
    "def top_tracks_of_artist(sp_client: spotipy.Spotify,\n",
    "                         artist_id_or_url_or_name: str,\n",
    "                         market: str = \"US\",\n",
    "                         limit: int = 10) -> List[Dict[str, Union[str, int]]]:\n",
    "\n",
    "    candidate = normalize_artist_id(artist_id_or_url_or_name)\n",
    "\n",
    "\n",
    "    if len(candidate) >= 20:\n",
    "        artist_id = candidate\n",
    "    else:\n",
    "        found = find_artist_id_by_name(sp_client, artist_id_or_url_or_name)\n",
    "        if not found:\n",
    "            raise ValueError(f\"No se encontró artista: {artist_id_or_url_or_name!r}\")\n",
    "        artist_id = found\n",
    "\n",
    "    resp = sp_client.artist_top_tracks(artist_id, country=market)\n",
    "    tracks = resp.get(\"tracks\", [])[:limit]\n",
    "\n",
    "    return [\n",
    "        {\n",
    "            \"song\": t[\"name\"],\n",
    "            \"popularity\": int(t.get(\"popularity\", 0)),\n",
    "            \"duration\": int(t.get(\"duration_ms\", 0)),\n",
    "        }\n",
    "        for t in tracks\n",
    "    ]\n"
   ],
   "id": "539002d6285a13fe",
   "outputs": [],
   "execution_count": 77
  },
  {
   "metadata": {},
   "cell_type": "markdown",
   "source": [
    "# Generar el top 10 de Beele\n",
    "### Ejecuté la función principal pasando el nombre del artista y el país como parámetros. Realizando así la lista de las 10 canciones más escuchadas de Beele en este caso"
   ],
   "id": "f83e902efd7c0811"
  },
  {
   "metadata": {
    "ExecuteTime": {
     "end_time": "2025-09-16T23:36:21.055953Z",
     "start_time": "2025-09-16T23:36:20.054062Z"
    }
   },
   "cell_type": "code",
   "source": [
    "artist_name = \"Beele\"\n",
    "MARKET = \"US\"\n",
    "\n",
    "top10_beele = top_tracks_of_artist(sp, artist_name, market=MARKET, limit=10)\n",
    "top10_beele\n"
   ],
   "id": "e61ef37f919369bf",
   "outputs": [
    {
     "data": {
      "text/plain": [
       "[{'song': 'La Plena - W Sound 05', 'popularity': 91, 'duration': 150001},\n",
       " {'song': 'no tiene sentido', 'popularity': 89, 'duration': 158036},\n",
       " {'song': 'YO y TÚ', 'popularity': 90, 'duration': 198153},\n",
       " {'song': 'si te pillara', 'popularity': 88, 'duration': 184547},\n",
       " {'song': 'mi refe', 'popularity': 85, 'duration': 159404},\n",
       " {'song': 'top diesel', 'popularity': 86, 'duration': 189456},\n",
       " {'song': 'Hasta Aquí Llegué', 'popularity': 81, 'duration': 188887},\n",
       " {'song': 'quédate', 'popularity': 82, 'duration': 176481},\n",
       " {'song': 'sobelove', 'popularity': 79, 'duration': 131827},\n",
       " {'song': 'Hiekka', 'popularity': 82, 'duration': 213333}]"
      ]
     },
     "execution_count": 80,
     "metadata": {},
     "output_type": "execute_result"
    }
   ],
   "execution_count": 80
  },
  {
   "metadata": {
    "ExecuteTime": {
     "end_time": "2025-09-16T23:05:52.516677Z",
     "start_time": "2025-09-16T23:05:52.514484Z"
    }
   },
   "cell_type": "code",
   "source": "",
   "id": "c43ea2eda346bd25",
   "outputs": [],
   "execution_count": null
  },
  {
   "metadata": {
    "ExecuteTime": {
     "end_time": "2025-09-16T23:05:52.549981Z",
     "start_time": "2025-09-16T23:05:52.547724Z"
    }
   },
   "cell_type": "code",
   "source": "",
   "id": "c2cc4ac5a76845dd",
   "outputs": [],
   "execution_count": null
  }
 ],
 "metadata": {
  "kernelspec": {
   "display_name": "Python 3",
   "language": "python",
   "name": "python3"
  },
  "language_info": {
   "codemirror_mode": {
    "name": "ipython",
    "version": 2
   },
   "file_extension": ".py",
   "mimetype": "text/x-python",
   "name": "python",
   "nbconvert_exporter": "python",
   "pygments_lexer": "ipython2",
   "version": "2.7.6"
  }
 },
 "nbformat": 4,
 "nbformat_minor": 5
}
